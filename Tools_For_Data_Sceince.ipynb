{
 "cells": [
  {
   "cell_type": "markdown",
   "id": "ec1995b9-a85c-4b74-99d8-e4b426781a49",
   "metadata": {},
   "source": [
    "# My Juypter Notebook on IBM Watson Studio"
   ]
  },
  {
   "cell_type": "markdown",
   "id": "6e00ed3f-66aa-4444-8bfb-9e9785aac897",
   "metadata": {},
   "source": [
    "**John Holland**\n",
    "\n",
    "I hope to one day get a job in Data Analytics."
   ]
  },
  {
   "cell_type": "markdown",
   "id": "d7dfae3a-feeb-4181-b7d2-49152fc10cd6",
   "metadata": {},
   "source": [
    "_I am interested in Data Science because the future is going to rely on data. I believe many jobs will be taken away with big data and machine learning models. If you do not know this information I am afraid businesses will move on without you._\n"
   ]
  },
  {
   "cell_type": "markdown",
   "id": "f6ac7deb-70ec-4c34-82af-efe67a3c5d16",
   "metadata": {},
   "source": [
    "### My code will output the sentance we love data using a different string. I am learning coding and this helps me with another course. Hope you understand.\n"
   ]
  },
  {
   "cell_type": "code",
   "execution_count": 7,
   "id": "4659c345-9bf6-4161-99da-38b0e5521545",
   "metadata": {},
   "outputs": [
    {
     "name": "stdout",
     "output_type": "stream",
     "text": [
      "we love data\n"
     ]
    }
   ],
   "source": [
    "#Code uses one string to create another. Thanks\n",
    "a = (\"velvet white toad\")\n",
    "b = (a[7]+a[1]+a[6]+a[2]+a[14]+a[0]+a[1]+a[6]+a[16]+a[15]+a[5]+a[15])\n",
    "print(b)"
   ]
  },
  {
   "cell_type": "markdown",
   "id": "ebb13906-415e-4230-aab8-b9eebcc22b4c",
   "metadata": {},
   "source": [
    "#### A Table with strikethrough and Highlights.\n",
    "Apple | Orange | Bananna\n",
    "--- | --- | ---\n",
    "~~2~~ | `5` | ~~2~~"
   ]
  },
  {
   "cell_type": "markdown",
   "id": "542a56a8-c9aa-4893-9ebd-a10bfbc6411b",
   "metadata": {},
   "source": []
  },
  {
   "cell_type": "code",
   "execution_count": null,
   "id": "405e762e-b68b-42ef-8d94-74d45bc8cd42",
   "metadata": {},
   "outputs": [],
   "source": []
  }
 ],
 "metadata": {
  "kernelspec": {
   "display_name": "Python 3 (ipykernel)",
   "language": "python",
   "name": "python3"
  },
  "language_info": {
   "codemirror_mode": {
    "name": "ipython",
    "version": 3
   },
   "file_extension": ".py",
   "mimetype": "text/x-python",
   "name": "python",
   "nbconvert_exporter": "python",
   "pygments_lexer": "ipython3",
   "version": "3.9.13"
  }
 },
 "nbformat": 4,
 "nbformat_minor": 5
}
